{
 "cells": [
  {
   "cell_type": "markdown",
   "metadata": {},
   "source": [
    "# C-FIRE: Colombian Fire Incidence and Risk Estimator (Generación de la base pt. 2) "
   ]
  },
  {
   "cell_type": "markdown",
   "metadata": {},
   "source": [
    "### Feature engineering"
   ]
  },
  {
   "cell_type": "markdown",
   "metadata": {},
   "source": [
    "#### Frecuencia de incendios por sector y fecha"
   ]
  },
  {
   "cell_type": "code",
   "execution_count": null,
   "metadata": {},
   "outputs": [],
   "source": [
    "# CREACIÓN DE LA VARIABLE DE FECHAS (RANGO DEL 2020/01 AL 2024/09)\n",
    "rango_fechas = pd.date_range(start='2020-01-01', end='2024-09-01', freq='MS')\n",
    "rango_fechas"
   ]
  },
  {
   "cell_type": "code",
   "execution_count": null,
   "metadata": {},
   "outputs": [],
   "source": [
    "# CREACIÓN DE VARIABLE DE SECTORES CON SECTORES ÚNICOS\n",
    "sectores = mapa_final['sector'].unique()\n",
    "sectores"
   ]
  },
  {
   "cell_type": "code",
   "execution_count": null,
   "metadata": {},
   "outputs": [],
   "source": [
    "# UNIÓN DE SECTORES Y RANGO DE FECHAS\n",
    "sectores_fechas = pd.MultiIndex.from_product([sectores, rango_fechas], names=['sector', 'mes']).to_frame(index=False)\n",
    "sectores_fechas"
   ]
  },
  {
   "cell_type": "code",
   "execution_count": null,
   "metadata": {},
   "outputs": [],
   "source": [
    "# CONTEO DE INCENDIOS POR SECTOR Y MES \n",
    "frecuencia_incendios = incendios_con_sector.groupby(['sector', 'fecha']).size().reset_index(name='frecuencia_incendios')\n",
    "frecuencia_incendios"
   ]
  },
  {
   "cell_type": "code",
   "execution_count": null,
   "metadata": {},
   "outputs": [],
   "source": [
    "# RENOMBRE DE VARIABLE 'mes' POR 'fecha'\n",
    "sectores_fechas=sectores_fechas.rename(columns={'mes':'fecha'})\n",
    "sectores_fechas"
   ]
  },
  {
   "cell_type": "code",
   "execution_count": null,
   "metadata": {},
   "outputs": [],
   "source": [
    "# INCLUSIÓN DEL CONTEO DE INCENDIOS A LA BASE QUE SERÁ LA FINAL (DE MOMENTO CONTIENE SECTORES Y MESES)\n",
    "basef_1 = pd.merge(sectores_fechas, frecuencia_incendios, on=['sector', 'fecha'], how='left')\n",
    "basef_1"
   ]
  },
  {
   "cell_type": "code",
   "execution_count": null,
   "metadata": {},
   "outputs": [],
   "source": [
    "# CREACIÓN DE LA VARIABLE BOOLEANA QUE MUESTRA SI HUBO INCENDIOS EN EL SECTOR Y EN EL MES ESPECÍFICO EN FUNCIÓN DE LOS REGISTROS VACIOS DEL CONTEO DE INCENDIOS\n",
    "basef_1['si_hubo_incendio'] = np.where(basef_1['frecuencia_incendios'].isna(), 0, 1)\n",
    "basef_1['frecuencia_incendios'] = basef_1['frecuencia_incendios'].fillna(0)\n",
    "basef_1"
   ]
  },
  {
   "cell_type": "code",
   "execution_count": null,
   "metadata": {},
   "outputs": [],
   "source": [
    "# COMPROBACIÓN DE QUE NO SEAN SOLO VALORES DE 0 EN LA VARIABLE BOOLEANA\n",
    "print(basef_1['si_hubo_incendio'].max())"
   ]
  },
  {
   "cell_type": "code",
   "execution_count": null,
   "metadata": {},
   "outputs": [],
   "source": [
    "# COMPROBACIÓN DE QUE NO SEAN SOLO VALORES DE 0 EN EL CONTEO DE INCENDIOS\n",
    "print(basef_1['frecuencia_incendios'].max())"
   ]
  },
  {
   "cell_type": "markdown",
   "metadata": {},
   "source": [
    "#### Distancia entre incendios por municipio y fecha"
   ]
  },
  {
   "cell_type": "code",
   "execution_count": null,
   "metadata": {},
   "outputs": [],
   "source": [
    "# CONVERSIÓN Y RECTIFICACIÓN AL MISMO SISTEMA DE COORDENADAS\n",
    "municipios=municipios.to_crs(epsg=4326)\n",
    "print(incendios_final.crs, municipios.crs)"
   ]
  },
  {
   "cell_type": "code",
   "execution_count": null,
   "metadata": {},
   "outputs": [],
   "source": [
    "# INCLUSIÓN DE INCENDIOS (GEOMETRÍA DE PUNTOS) A LOS MUNICIPIOS (GEOMETRÍA DE POLÍGONOS) \n",
    "incendios_con_municipios = gpd.sjoin(incendios_final, municipios[['municipio_cod', 'geometry']], how='left', predicate='within')\n",
    "incendios_con_municipios"
   ]
  },
  {
   "cell_type": "code",
   "execution_count": null,
   "metadata": {},
   "outputs": [],
   "source": [
    "# CONTEO DE REGISTROS VACIOS EN LA VARIABLE 'codigo' (INCENDIOS SIN MUNICIPIO)\n",
    "nan_count = incendios_con_municipios['municipio_cod'].isna().sum()\n",
    "nan_count"
   ]
  },
  {
   "cell_type": "code",
   "execution_count": null,
   "metadata": {},
   "outputs": [],
   "source": [
    "# QUITAR REGISTROS VACIOS DE SECTOR Y FILTRACIÓN DE VARIABLES\n",
    "incendios_con_municipios = incendios_con_municipios[incendios_con_municipios['municipio_cod'].notna()]\n",
    "incendios_con_municipios = incendios_con_municipios.drop(columns=['brillo','index_right', 'latitud', 'longitud', 'acq_date', 'bright_t31', 'frp'])\n",
    "\n",
    "incendios_con_municipios"
   ]
  },
  {
   "cell_type": "code",
   "execution_count": null,
   "metadata": {},
   "outputs": [],
   "source": [
    "# CONVERSIÓN DE CRS DEL MAPA DE UNIÓN DE INCENDIOS POR MUNICIPIO AL MISMO CRS DEL MAPA DE SECTORES\n",
    "incendios_con_municipios.to_crs(mapa_final.crs)\n",
    "\n",
    "print(incendios_con_municipios.crs)"
   ]
  },
  {
   "cell_type": "code",
   "execution_count": null,
   "metadata": {},
   "outputs": [],
   "source": [
    "# UNIÓN DE INCENDIOS POR MUNICIPIO CON EL MAPA DE SECTORES (UBICACIÓN DE PUNTOS DENTRO DE POLÍGONOS)\n",
    "incendios_con_municipios_sector = gpd.sjoin(incendios_con_municipios, mapa_final[['sector', 'geometry']], how='left', predicate='within')\n",
    "incendios_con_municipios_sector"
   ]
  },
  {
   "cell_type": "code",
   "execution_count": null,
   "metadata": {},
   "outputs": [],
   "source": [
    "# CREAR LLAVE PARA UNIÓN POSTERIOR A LA BASE FINAL DE ACUERDO A LOS SECTORES (EL CAMBIO DE CRS ALTERA LAS COORDENADAS)\n",
    "incendios_con_municipios_sector['llave_incendio'] = incendios_con_municipios_sector.index.astype(str)\n",
    "incendios_con_municipios_sector"
   ]
  },
  {
   "cell_type": "code",
   "execution_count": null,
   "metadata": {},
   "outputs": [],
   "source": [
    "# Asegurarnos de que los datos están transformados a coordenadas EPSG 3857\n",
    "incendios_transformados = incendios_con_municipios_sector.to_crs(epsg=3857)\n",
    "\n",
    "# Crear una lista para almacenar los resultados\n",
    "resultados = []\n",
    "\n",
    "# Agrupamos por municipio, año y mes\n",
    "for (municipio_cod, año, mes), grupo_actual in incendios_transformados.groupby(['municipio_cod', 'año', 'mes']):\n",
    "    # Determinar el mes anterior\n",
    "    if mes == 1:  # Si es enero, retroceder al diciembre del año anterior\n",
    "        año_anterior = año - 1\n",
    "        mes_anterior = 12\n",
    "    else:\n",
    "        año_anterior = año\n",
    "        mes_anterior = mes - 1\n",
    "\n",
    "    # Filtrar los incendios del mismo municipio del mes anterior\n",
    "    grupo_anterior = incendios_transformados[\n",
    "        (incendios_transformados['municipio_cod'] == municipio_cod) &\n",
    "        (incendios_transformados['año'] == año_anterior) &\n",
    "        (incendios_transformados['mes'] == mes_anterior)\n",
    "    ]\n",
    "    \n",
    "    # Si no hay incendios el mes anterior, llenar con valores predeterminados\n",
    "    if grupo_anterior.empty:\n",
    "        for llave in grupo_actual['llave_incendio']:\n",
    "            resultados.append({\n",
    "                'municipio_cod': municipio_cod,\n",
    "                'año': año,\n",
    "                'mes': mes,\n",
    "                'llave_incendio': llave,\n",
    "                'distancia_promedio': 999999,\n",
    "                'distancia_minima': 999999,\n",
    "                'distancia_maxima': 999999\n",
    "            })\n",
    "        continue\n",
    "\n",
    "    # Coordenadas y llaves del grupo anterior y actual\n",
    "    coords_anterior = grupo_anterior.geometry.apply(lambda geom: (geom.x, geom.y)).tolist()\n",
    "    coords_actual = grupo_actual.geometry.apply(lambda geom: (geom.x, geom.y)).tolist()\n",
    "    llaves_actual = grupo_actual['llave_incendio'].tolist()\n",
    "\n",
    "    # Calcular la matriz de distancias entre incendios del grupo actual y del anterior\n",
    "    dist_matrix = distance_matrix(coords_actual, coords_anterior)\n",
    "\n",
    "    # Procesar cada incendio del grupo actual\n",
    "    for i, llave in enumerate(llaves_actual):\n",
    "        distancias = dist_matrix[i, :]\n",
    "        \n",
    "        if distancias.size > 0:\n",
    "            promedio = distancias.mean()\n",
    "            minimo = distancias.min()\n",
    "            maximo = distancias.max()\n",
    "        else:\n",
    "            promedio = 999999\n",
    "            minimo = 999999\n",
    "            maximo = 999999\n",
    "\n",
    "        resultados.append({\n",
    "            'municipio_cod': municipio_cod,\n",
    "            'año': año,\n",
    "            'mes': mes,\n",
    "            'llave_incendio': llave,\n",
    "            'distancia_promedio': promedio,\n",
    "            'distancia_minima': minimo,\n",
    "            'distancia_maxima': maximo\n",
    "        })\n",
    "\n",
    "# Convertir resultados a DataFrame\n",
    "distancia_por_incendio_mes_anterior = pd.DataFrame(resultados)\n",
    "\n",
    "distancia_por_incendio_mes_anterior# CLASIFICACIÓN DE CÁLCULOS POR SECTOR\n",
    "# Seleccionar solo las columnas de interés en distancia_por_incendio_mes_anterior\n",
    "columnas_calculos = ['llave_incendio', 'distancia_promedio', 'distancia_minima', 'distancia_maxima']\n",
    "\n",
    "# Realizar el merge manteniendo solo esas columnas adicionales\n",
    "distancia_entre_incendios = pd.merge(\n",
    "    incendios_con_municipios_sector, \n",
    "    distancia_por_incendio_mes_anterior[columnas_calculos], \n",
    "    on='llave_incendio', \n",
    "    how='outer'\n",
    ")\n",
    "\n",
    "distancia_entre_incendios"
   ]
  },
  {
   "cell_type": "code",
   "execution_count": null,
   "metadata": {},
   "outputs": [],
   "source": [
    "# CÁLCULO DEL PROMEDIO POR SECTOR Y MES DE LA DISTANCIA PROMEDIO ENTRE INCENDIOS POR MUNICIPIO\n",
    "# Agrupar por municipio_cod, año, mes y sector y calcular el promedio de las distancias promedio\n",
    "distancia_entre_incendios = distancia_entre_incendios.groupby(['año', 'mes', 'sector'])['distancia_promedio'].mean().reset_index()\n",
    "\n",
    "# Renombrar la columna para mayor claridad\n",
    "distancia_entre_incendios.rename(columns={'distancia_promedio': 'promedio_distancia_promedio'}, inplace=True)\n",
    "\n",
    "# Mostrar el DataFrame con los promedios de las distancias promedio por sector\n",
    "distancia_entre_incendios"
   ]
  },
  {
   "cell_type": "code",
   "execution_count": null,
   "metadata": {},
   "outputs": [],
   "source": [
    "# CREACIÓN DE VARIABLE DIA EN EL REGISTRO DE INCENDIOS CON SECTORES (PARA CREAR VARIABLE FECHA EN ESE GEODATAFRAME)\n",
    "distancia_entre_incendios['dia']=1\n",
    "distancia_entre_incendios"
   ]
  },
  {
   "cell_type": "code",
   "execution_count": null,
   "metadata": {},
   "outputs": [],
   "source": [
    "# CREACIÓN DE VARIABLE 'fecha' Y DEFINICIÓN DE ESA VARIABLE COMO TAL \n",
    "distancia_entre_incendios['fecha'] = (\n",
    "    distancia_entre_incendios['año'].astype(str) + '-' +\n",
    "    distancia_entre_incendios['mes'].astype(str).str.zfill(2) + '-' +\n",
    "    distancia_entre_incendios['dia'].astype(str).str.zfill(2)\n",
    ")\n",
    "distancia_entre_incendios['fecha'] = pd.to_datetime(distancia_entre_incendios['fecha'])\n",
    "distancia_entre_incendios"
   ]
  },
  {
   "cell_type": "code",
   "execution_count": null,
   "metadata": {},
   "outputs": [],
   "source": [
    "distancia_entre_incendios.promedio_distancia_promedio.min()"
   ]
  },
  {
   "cell_type": "code",
   "execution_count": null,
   "metadata": {},
   "outputs": [],
   "source": [
    "# ADICIÓN DEL PROMEDIO DE LAS DISTANCIAS ENTRE INCENDIOS A LA BASE FINAL\n",
    "distancia_entre_incendios = distancia_entre_incendios[['sector', 'fecha', 'promedio_distancia_promedio']].rename(\n",
    "    columns={'promedio_distancia_promedio': 'distancia_promedio_entre_incendios'}\n",
    ")\n",
    "\n",
    "basef_1_1 = pd.merge(basef_1, distancia_entre_incendios, on=['sector', 'fecha'], how='left')\n",
    "\n",
    "basef_1_1['distancia_promedio_entre_incendios'] = basef_1_1['distancia_promedio_entre_incendios'].fillna(999999)\n",
    "\n",
    "basef_1_1"
   ]
  },
  {
   "cell_type": "code",
   "execution_count": null,
   "metadata": {},
   "outputs": [],
   "source": [
    "basef_1_1.distancia_promedio_entre_incendios.min()"
   ]
  },
  {
   "cell_type": "code",
   "execution_count": null,
   "metadata": {},
   "outputs": [],
   "source": [
    "basef_1_1.distancia_promedio_entre_incendios.mean()"
   ]
  },
  {
   "cell_type": "code",
   "execution_count": null,
   "metadata": {},
   "outputs": [],
   "source": [
    "basef_1_1.distancia_promedio_entre_incendios.median()"
   ]
  },
  {
   "cell_type": "code",
   "execution_count": null,
   "metadata": {},
   "outputs": [],
   "source": [
    "# COMPROBACIÓN DE VALORES EN LA MEDIA DE DISTANCIA ENTRE INCENDIOS\n",
    "basef_1_1.distancia_promedio_entre_incendios.nunique()"
   ]
  },
  {
   "cell_type": "markdown",
   "metadata": {},
   "source": [
    "#### Distancia vias e incendios"
   ]
  },
  {
   "cell_type": "code",
   "execution_count": null,
   "metadata": {},
   "outputs": [],
   "source": [
    "# CONVERSIÓN A SISTEMA DE COORDENADAS SIMILAR DE LAS VIAS E INCENDIOS\n",
    "vias = vias.to_crs(epsg=3116)\n",
    "incendios_con_sector = incendios_con_sector.to_crs(epsg=3116)\n",
    "\n",
    "print(incendios_con_sector.crs, vias.crs)"
   ]
  },
  {
   "cell_type": "code",
   "execution_count": null,
   "metadata": {},
   "outputs": [],
   "source": [
    "# SIMPLIFICACIÓN DE LA GEOMETRÍA DE LAS LINEAS DE LAS VÍAS PARA ALIGERAR EL CÁLCULO Y REDUCIR EL COSTO COMPUTACIONAL\n",
    "vias['geometry'] = vias['geometry'].simplify(tolerance=0.1, preserve_topology=True)"
   ]
  },
  {
   "cell_type": "code",
   "execution_count": null,
   "metadata": {},
   "outputs": [],
   "source": [
    "# CREACIÓN DE FUNCIÓN PARA CALCULAR LA DISTANCIA ENTRE LOS INCENDIOS Y LAS VIAS\n",
    "idx = index.Index()\n",
    "# Agregar geometrías de vías al índice espacial\n",
    "for i, geom in enumerate(vias.geometry):\n",
    "    idx.insert(i, geom.bounds)  # Insertamos las geometrías en el índice con sus límites\n",
    "\n",
    "# Función para calcular las vías cercanas con tolerancia ajustada\n",
    "def encontrar_vias_cercanas(incendio_geom, vias, idx):\n",
    "    # Obtener las vías cuyos límites intersectan con los límites del incendio\n",
    "    possible_matches_index = list(idx.intersection(incendio_geom.bounds))\n",
    "    \n",
    "    # Filtrar las posibles coincidencias exactas\n",
    "    possible_matches = vias.iloc[possible_matches_index]\n",
    "    \n",
    "    if possible_matches.empty:\n",
    "        return 999999  # Si no hay coincidencias, devuelve 999999\n",
    "    \n",
    "    # Calcular la distancia mínima\n",
    "    min_dist = possible_matches.geometry.distance(incendio_geom).min()\n",
    "    return min_dist\n",
    "\n",
    "# Aplicar la función para calcular distancias\n",
    "incendios_con_sector['distancia_vias'] = incendios_con_sector.geometry.apply(lambda geom: encontrar_vias_cercanas(geom, vias, idx))\n",
    "\n",
    "print(incendios_con_sector[['geometry', 'distancia_vias']].head())"
   ]
  },
  {
   "cell_type": "code",
   "execution_count": null,
   "metadata": {},
   "outputs": [],
   "source": [
    "# COMPROBACIÓN DE QUE NO SOLO HAYA DISTANCIAS CON VALORES DE 9999 POR MEDIO DEL VALOR MÍNIMO \n",
    "incendios_con_sector.distancia_vias.min()"
   ]
  },
  {
   "cell_type": "code",
   "execution_count": null,
   "metadata": {},
   "outputs": [],
   "source": [
    "# COMPROBACIÓN DE VALORES DE DISTANCIAS (USANDO LA VISUALIZACIÓN DE 'TODOS' LOS REGISTROS)\n",
    "pd.set_option('display.max_rows', None)\n",
    "print(incendios_con_sector['distancia_vias'])"
   ]
  },
  {
   "cell_type": "code",
   "execution_count": null,
   "metadata": {},
   "outputs": [],
   "source": [
    "# DESHABILTACIÓN DE LA VISUALIZACIÓN DE 'TODOS' LOS REGISTROS\n",
    "pd.reset_option('display.max_rows')"
   ]
  },
  {
   "cell_type": "code",
   "execution_count": null,
   "metadata": {},
   "outputs": [],
   "source": [
    "# COMPROBACIÓN DE LA DISTANCIA ENTRE INCENDIOS Y VIAS POR MEDIO DE VALORES ÚNICOS\n",
    "uv=incendios_con_sector['distancia_vias'].unique()\n",
    "print(uv)"
   ]
  },
  {
   "cell_type": "code",
   "execution_count": null,
   "metadata": {},
   "outputs": [],
   "source": [
    "# CONVERSIÓN DE INCENDIOS A UN SISTEMA DE COORDENADAS APROPIADO PARA UNIÓN CON LAS DISTANCIAS CON LAS VIAS\n",
    "incendios_con_sector=incendios_con_sector.to_crs(epsg=4326)\n",
    "\n",
    "mapa_final=mapa_final.to_crs(incendios_con_sector.crs)\n",
    "print(mapa_final.crs, incendios_con_sector.crs)"
   ]
  },
  {
   "cell_type": "code",
   "execution_count": null,
   "metadata": {},
   "outputs": [],
   "source": [
    "# CALCULO DEL PROMEDIO DE LA DISTANCIA DE INCENDIOS CON VIAS POR SECTOR Y MES\n",
    "promedio_distancia = incendios_con_sector.groupby(['sector', 'fecha'])['distancia_vias'].mean().reset_index()\n",
    "promedio_distancia.rename(columns={'distancia_vias': 'promedio_distancia_vias'}, inplace=True)\n",
    "promedio_distancia"
   ]
  },
  {
   "cell_type": "code",
   "execution_count": null,
   "metadata": {},
   "outputs": [],
   "source": [
    "# COMPROBACIÓN DE QUE NO SOLO HAYA DISTANCIAS CON VALORES DE 9999 POR MEDIO DEL VALOR MÍNIMO\n",
    "promedio_distancia['promedio_distancia_vias'].min()"
   ]
  },
  {
   "cell_type": "code",
   "execution_count": null,
   "metadata": {},
   "outputs": [],
   "source": [
    "# COMPROBACIÓN DE LA DISTANCIA ENTRE INCENDIOS Y VIAS POR MEDIO DE VALORES ÚNICOS\n",
    "uv=promedio_distancia['promedio_distancia_vias'].unique()\n",
    "print(uv)"
   ]
  },
  {
   "cell_type": "code",
   "execution_count": null,
   "metadata": {},
   "outputs": [],
   "source": [
    "# UNIÓN DEL PROMEDIO DE LA DISTANCIA DE LOS INCENDIOS Y LAS VIAS A LA BASE FINAL POR MEDIO DE LAS VARIABLES 'sector' Y 'fecha'.\n",
    "basef_2 = pd.merge(basef_1_1, promedio_distancia, on=['sector', 'fecha'], how='left')\n",
    "basef_2['promedio_distancia_vias'] = basef_2['promedio_distancia_vias'].fillna(999999)\n",
    "basef_2"
   ]
  },
  {
   "cell_type": "code",
   "execution_count": null,
   "metadata": {},
   "outputs": [],
   "source": [
    "# COMPROBACIÓN DE QUE NO SOLO HAYA DISTANCIAS CON VALORES DE 9999 POR MEDIO DEL VALOR MÍNIMO\n",
    "basef_2['promedio_distancia_vias'].min()"
   ]
  },
  {
   "cell_type": "markdown",
   "metadata": {},
   "source": [
    "#### Conteo vías en sectores"
   ]
  },
  {
   "cell_type": "code",
   "execution_count": null,
   "metadata": {},
   "outputs": [],
   "source": [
    "# CONTEO DE PRESENCIA DE VIAS POR SECTOR\n",
    "vias_por_sector = sectores_vias.groupby('sector').size().reset_index(name='conteo_vias')\n",
    "vias_por_sector"
   ]
  },
  {
   "cell_type": "code",
   "execution_count": null,
   "metadata": {},
   "outputs": [],
   "source": [
    "# COMPROBACIÓN DEL CONTEO POR MEDIO DEL VALOR MÍNIMO Y MÁXIMO\n",
    "print(vias_por_sector['conteo_vias'].max(), vias_por_sector['conteo_vias'].min())"
   ]
  },
  {
   "cell_type": "code",
   "execution_count": null,
   "metadata": {},
   "outputs": [],
   "source": [
    "# UNIÓN DEL CONTEO DE VIAS POR SECTOR A LA BASE FINAL Y REORDENAMIENTO DE VARIABLES \n",
    "basef_3 = pd.merge(vias_por_sector, basef_2, on='sector', how='outer')\n",
    "n_o = ['sector','fecha','conteo_vias','si_hubo_incendio','frecuencia_incendios','distancia_promedio_entre_incendios', 'promedio_distancia_vias']\n",
    "basef_3 = basef_3[n_o]\n",
    "basef_3"
   ]
  },
  {
   "cell_type": "markdown",
   "metadata": {},
   "source": [
    "#### Moda del tipo de vía por sector"
   ]
  },
  {
   "cell_type": "code",
   "execution_count": null,
   "metadata": {},
   "outputs": [],
   "source": [
    "# CALCULO DE MODA DEL TIPO DE VIA PRESENTE POR SECTOR\n",
    "moda_vias = sectores_vias.groupby('sector')['tipo'].agg(\n",
    "    lambda x: x.mode().iloc[0] if not x.mode().empty else None\n",
    ").reset_index()\n",
    "moda_vias"
   ]
  },
  {
   "cell_type": "code",
   "execution_count": null,
   "metadata": {},
   "outputs": [],
   "source": [
    "moda_vias.tipo.unique()"
   ]
  },
  {
   "cell_type": "code",
   "execution_count": null,
   "metadata": {},
   "outputs": [],
   "source": [
    "# UNIÓN DE LA MODA DEL TIPO DE VIA POR SECTOR A LA BASE FINAL\n",
    "basef_4 = pd.merge(basef_3, moda_vias, on='sector', how='left')\n",
    "basef_4 = basef_4.rename(columns={'tipo': 'moda_vias'})\n",
    "basef_4"
   ]
  },
  {
   "cell_type": "code",
   "execution_count": null,
   "metadata": {},
   "outputs": [],
   "source": [
    "# SE REVISA QUE NO HAYA DATOS VACIOS EN LA MODA DE VIAS POR SECTOR\n",
    "nan_count = basef_4['conteo_vias'].isna().sum()\n",
    "nan_count"
   ]
  },
  {
   "cell_type": "code",
   "execution_count": null,
   "metadata": {},
   "outputs": [],
   "source": [
    "# SE REVISA QUE NO HAYA DATOS VACIOS EN EL CONTEO DE VIAS POR SECTOR\n",
    "nan_count = basef_4['moda_vias'].isna().sum()\n",
    "nan_count"
   ]
  },
  {
   "cell_type": "code",
   "execution_count": null,
   "metadata": {},
   "outputs": [],
   "source": [
    "# SE RELLENA LA AUSENCIA DE VIAS (CONTEO) CON 0 PARA DATOS FALTANTES Y CON 36 (DE ACUERDO A LA CATEGORIZACIÓN ASIGNADA MÁS ARRIBA)PARA LA MODA\n",
    "basef_4['conteo_vias'] = basef_4['conteo_vias'].fillna(0)\n",
    "basef_4['moda_vias'] = basef_4['moda_vias'].fillna('None')\n",
    "basef_4"
   ]
  },
  {
   "cell_type": "markdown",
   "metadata": {},
   "source": [
    "#### Moda del uso de la tierra por sector"
   ]
  },
  {
   "cell_type": "code",
   "execution_count": null,
   "metadata": {},
   "outputs": [],
   "source": [
    "# CÁLCULO DE LA MODA DEL USO DE TIERRA POR SECTORES PARA CLASIFICAR LOS SECTORES EN FUNCIÓN DEL USO\n",
    "moda_uso_tierra = uso_tierra_sectores.groupby('sector')['Vocacion'].agg(\n",
    "    lambda x: x.mode().iloc[0] if not x.mode().empty else None\n",
    ").reset_index()\n",
    "moda_uso_tierra"
   ]
  },
  {
   "cell_type": "code",
   "execution_count": null,
   "metadata": {},
   "outputs": [],
   "source": [
    "# VISUALIZACIÓN DE DATOS FALTANTES LUEGO DE OBTENER LA MODA\n",
    "nan_count = moda_uso_tierra['Vocacion'].isna().sum()\n",
    "nan_count"
   ]
  },
  {
   "cell_type": "code",
   "execution_count": null,
   "metadata": {},
   "outputs": [],
   "source": [
    "# UNIÓN DE LA MODA DEL USO DE LA TIERRA POR SECTOR \n",
    "basef_5 = pd.merge(basef_4, moda_uso_tierra, on='sector', how='left')\n",
    "basef_5 = basef_5.rename(columns={'Vocacion': 'uso_tierra_moda'})\n",
    "basef_5"
   ]
  },
  {
   "cell_type": "code",
   "execution_count": null,
   "metadata": {},
   "outputs": [],
   "source": [
    "# VISUALIZACIÓN PARA COMPROBAR QUE SI SE HAYA CALCULADO LA MODA ADECUADAMENTE\n",
    "basef_5.uso_tierra_moda.unique()"
   ]
  },
  {
   "cell_type": "code",
   "execution_count": null,
   "metadata": {},
   "outputs": [],
   "source": [
    "# IMPUTACIÓN DE REGISTROS FALTANTES POR MEDIO DE LA MODA GENERAL\n",
    "moda = basef_5['uso_tierra_moda'].mode()[0]  # Obtiene la moda (primera en caso de múltiples)\n",
    "basef_5['uso_tierra_moda'] = basef_5['uso_tierra_moda'].fillna(moda)  # Llena los NA con la moda\n",
    "basef_5.uso_tierra_moda.unique()"
   ]
  },
  {
   "cell_type": "markdown",
   "metadata": {},
   "source": [
    "#### Conteo de puntos de minería ilegal por sector"
   ]
  },
  {
   "cell_type": "code",
   "execution_count": null,
   "metadata": {},
   "outputs": [],
   "source": [
    "# CONTEO DE MINERIA POR SECTOR\n",
    "conteo_mineria = mineria_sectores.groupby('sector').size().reset_index(name='conteo_mineria')\n",
    "conteo_mineria"
   ]
  },
  {
   "cell_type": "code",
   "execution_count": null,
   "metadata": {},
   "outputs": [],
   "source": [
    "# UNIÓN DEL CONTEO DE MINERIA POR SECTOR A LA BASE FINAL \n",
    "basef_6 = pd.merge(basef_5, conteo_mineria, on='sector', how='left')\n",
    "#basef_6 = basef_6.rename(columns={'uso_tierra_numerico': 'uso_tierra_moda'})\n",
    "basef_6"
   ]
  },
  {
   "cell_type": "code",
   "execution_count": null,
   "metadata": {},
   "outputs": [],
   "source": [
    "# VISUALIZACIÓN DE VALORES FALTANTES\n",
    "valores_nulos = basef_6.conteo_mineria.isna().sum()\n",
    "print(valores_nulos)"
   ]
  },
  {
   "cell_type": "code",
   "execution_count": null,
   "metadata": {},
   "outputs": [],
   "source": [
    "# IMPUTACIÓN DE VALORES DE 0 AL CONTEO DE MINERIA POR SECTOR\n",
    "basef_6[\"conteo_mineria\"] = basef_6[\"conteo_mineria\"].fillna(0)\n",
    "basef_6"
   ]
  },
  {
   "cell_type": "code",
   "execution_count": null,
   "metadata": {},
   "outputs": [],
   "source": [
    "# COMPROBACIÓN DE VALORES ÚNICOS EN EL CONTEO DE MINERÍA POR SECTOR\n",
    "basef_6.conteo_mineria.unique()"
   ]
  },
  {
   "cell_type": "code",
   "execution_count": null,
   "metadata": {},
   "outputs": [],
   "source": [
    "# COMPROBACIÓN DE QUE HAYA CONTEO DE MIENRIA POR SECTOR Y NO SOLO VALORES DE 0 POR MEDIO DEL VALOR MÁXIMO\n",
    "basef_6.conteo_mineria.max()"
   ]
  },
  {
   "cell_type": "markdown",
   "metadata": {},
   "source": [
    "### Feature transformation"
   ]
  },
  {
   "cell_type": "markdown",
   "metadata": {},
   "source": [
    "#### Conversión del tipo de vía a numérico"
   ]
  },
  {
   "cell_type": "code",
   "execution_count": null,
   "metadata": {},
   "outputs": [],
   "source": [
    "# CAMBIO DE CATEGORIZACIÓN TEXTUAL DE VIAS POR NUMÉRICA\n",
    "categoria_numerica = {\n",
    "    'residencial': 1,         # Vías residenciales (áreas de viviendas)\n",
    "    'primaria': 2,            # Vías primarias (importantes en la red vial)\n",
    "    'terciaria': 3,           # Vías terciarias (conectan áreas locales)\n",
    "    'secundaria': 4,          # Vías secundarias (menos tráfico que las primarias)\n",
    "    'enlace_primaria': 5,     # Conexiones de vías primarias\n",
    "    'enlace_principal': 6,    # Conexiones de vías principales\n",
    "    'enlace_secundaria': 7,   # Conexiones de vías secundarias\n",
    "    'principal': 8,           # Vía principal (vías rápidas, carreteras importantes)\n",
    "    'sendero': 9,             # Caminos para peatones o bicicletas\n",
    "    'servicio': 10,           # Vías de servicio (generalmente en áreas industriales)\n",
    "    'enlace_terciaria': 11,   # Conexiones de vías terciarias\n",
    "    'peatonal': 12,           # Zonas peatonales\n",
    "    'no_clasificada': 13,     # No clasificada\n",
    "    'camino': 14,             # Caminos sin pavimentar, usados para vehículos\n",
    "    'escaleras': 15,          # Escaleras\n",
    "    'ciclovía': 16,           # Ciclovías\n",
    "    'camino_caballos': 17,    # Caminos para caballos\n",
    "    'calle_residencial': 18,  # Calles residenciales o de baja velocidad\n",
    "    'pista': 19,              # Pistas de carreras\n",
    "    'en_construcción': 20,    # En construcción\n",
    "    'plataforma': 21,         # Plataformas (paradas de buses, trenes)\n",
    "    'rotonda': 22,            # Rotondas\n",
    "    'autopista': 23,          # Autopista (máxima importancia)\n",
    "    'parada_bus': 24,         # Paradas de buses\n",
    "    'carretera': 25,          # Carreteras principales\n",
    "    'propuesta': 26,          # Propuesta de vía (sin construcción todavía)\n",
    "    'desconocido': 27,        # Desconocido o sin datos\n",
    "    'área_descanso': 28,      # Áreas de descanso\n",
    "    'servicios': 29,          # Áreas de servicios (como estaciones de servicio)\n",
    "    'acceso_emergencia': 30,  # Acceso de emergencia\n",
    "    'vado': 31,               # Cruces de ríos\n",
    "    'enlace_autopista': 32,   # Conexiones de autopistas\n",
    "    'guía_bus': 33,           # Carriles exclusivos para buses\n",
    "    'minirotonda': 34,        # Mini rotondas\n",
    "    'None': 35,\n",
    "    None: 35                  # Valor faltante (nan)\n",
    "}\n",
    "\n",
    "# SE REEMPLAZA LA COLUMNA CON VARIABLE NUMÉRICAS\n",
    "basef_6['moda_vias'] = basef_6['moda_vias'].map(categoria_numerica)\n",
    "\n",
    "basef_6.head()"
   ]
  },
  {
   "cell_type": "code",
   "execution_count": null,
   "metadata": {},
   "outputs": [],
   "source": [
    "# VISUALIZACIÓN DE VALORES FALTANTES\n",
    "valores_nulos = basef_6.uso_tierra_moda.isna().sum()\n",
    "print(valores_nulos)"
   ]
  },
  {
   "cell_type": "code",
   "execution_count": null,
   "metadata": {},
   "outputs": [],
   "source": [
    "basef_6.moda_vias.unique()"
   ]
  },
  {
   "cell_type": "markdown",
   "metadata": {},
   "source": [
    "#### Conversión de la moda del uso de la tierra a numérico"
   ]
  },
  {
   "cell_type": "code",
   "execution_count": null,
   "metadata": {},
   "outputs": [],
   "source": [
    "# CATEGORIZACIÓN NUMÉRICA PARA EL USO DE LA TIERRA (SIN AGRUPAR)\n",
    "uso_tierra_map = {\n",
    "    'Agroforestal': 1,\n",
    "    'Forestal': 2,\n",
    "    'Zonas urbanas': 3,\n",
    "    'Áreas Prioritarias para la Conservación': 4,\n",
    "    'Agrícola': 5,\n",
    "    'Ganadera': 6,\n",
    "    'Áreas de Protección Legal': 7,\n",
    "    'Conservación de Suelos': 8,\n",
    "    'Cuerpo de agua': 9,\n",
    "    'Aeropuerto': 10,\n",
    "    'Arenal': 11,\n",
    "    'Base militar': 12,\n",
    "    'Basurero': 13,\n",
    "    'Cantera': 14,\n",
    "    'Edificación': 15,\n",
    "    'Represa': 16,\n",
    "    'Saladares': 17,\n",
    "    'Fosa de mina de carbón': 18,\n",
    "    'Tierra de relave de carbón': 19\n",
    "}\n",
    "\n",
    "# SE REEMPLAZA LA COLUMNA CON LAS CATEGORIAS NUMÉRICAS\n",
    "basef_6['uso_tierra_moda'] = basef_6['uso_tierra_moda'].map(uso_tierra_map)\n",
    "\n",
    "basef_6.head()"
   ]
  },
  {
   "cell_type": "code",
   "execution_count": null,
   "metadata": {},
   "outputs": [],
   "source": [
    "basef_6['mes'] = basef_6['fecha'].dt.month\n",
    "basef_6['año'] = basef_6['fecha'].dt.year\n",
    "\n",
    "basef_6 = basef_6.drop(columns=['fecha'])\n",
    "columnas = ['sector', 'año', 'mes'] + [col for col in basef_6.columns if col not in ['sector', 'año', 'mes']]\n",
    "basef_6 = basef_6[columnas]\n",
    "\n",
    "basef_6.head()"
   ]
  },
  {
   "cell_type": "code",
   "execution_count": null,
   "metadata": {},
   "outputs": [],
   "source": [
    "# CONVERSIÓN DE VARIABLES NUMÉRICAS A CATEGÓRICAS\n",
    "basef_6['mes'] = basef_6['mes'].astype('category')\n",
    "basef_6['año'] = basef_6['año'].astype('category')\n",
    "basef_6['sector'] = basef_6['sector'].astype('category')\n",
    "basef_6['si_hubo_incendio'] = basef_6['si_hubo_incendio'].astype('category')\n",
    "basef_6['moda_vias'] = basef_6['moda_vias'].astype('category')\n",
    "basef_6['uso_tierra_moda'] = basef_6['uso_tierra_moda'].astype('category')\n",
    "\n",
    "basef_6.head()"
   ]
  },
  {
   "cell_type": "code",
   "execution_count": null,
   "metadata": {},
   "outputs": [],
   "source": [
    "# RECTIFICACIÓN DE LA CONVERSIÓN DE VARIABLES NUMÉRICAS A CATEGÓRICAS\n",
    "basef_6.info()"
   ]
  },
  {
   "cell_type": "code",
   "execution_count": null,
   "metadata": {},
   "outputs": [],
   "source": [
    "# GUARDADO DE BASE DE DATOS FINAL COMO CSV\n",
    "basef_6.to_csv(\"Bases\\Base_final_incendios.csv\", index=False)"
   ]
  },
  {
   "cell_type": "markdown",
   "metadata": {},
   "source": [
    "### Feature extraction"
   ]
  },
  {
   "cell_type": "markdown",
   "metadata": {},
   "source": [
    "#### SelectKbest de Sklearn"
   ]
  },
  {
   "cell_type": "code",
   "execution_count": null,
   "metadata": {},
   "outputs": [],
   "source": [
    "X = basef_6.drop(columns=['si_hubo_incendio']) \n",
    "y = basef_6['si_hubo_incendio']\n",
    "\n",
    "X_train, X_test, y_train, y_test = train_test_split(X, y, test_size=0.3, random_state=42)\n",
    "\n",
    "selector = SelectKBest(score_func=f_classif, k=5)\n",
    "X_new = selector.fit_transform(X_train, y_train)\n",
    "\n",
    "print(\"Características seleccionadas:\", X.columns[selector.get_support()])\n",
    "print(\"Puntajes de las características:\", selector.scores_)"
   ]
  },
  {
   "cell_type": "markdown",
   "metadata": {},
   "source": [
    "La variable *promedio_distancia_vias* se elimina debido a su bajo puntaje de 56.63 en SelectKBest, lo que indica su baja relevancia para la predicción de incendios por sector y mes. Su eliminación ayuda a simplificar el modelo sin comprometer su precisión."
   ]
  },
  {
   "cell_type": "markdown",
   "metadata": {},
   "source": [
    "### Rebalanceo de clases"
   ]
  },
  {
   "cell_type": "code",
   "execution_count": null,
   "metadata": {},
   "outputs": [],
   "source": [
    "under_sample = RandomUnderSampler (random_state=42)\n",
    "x_resampled, y_resampled = under_sample.fit_resample(X_train, y_train)"
   ]
  },
  {
   "cell_type": "code",
   "execution_count": null,
   "metadata": {},
   "outputs": [],
   "source": [
    "# Crear un conjunto de datos desequilibrado\n",
    "X, y = make_classification(n_samples=500000, n_features=20, n_classes=2,\n",
    "                           weights=[0.9, 0.1], random_state=42)\n",
    "\n",
    "# Dividir en conjunto de entrenamiento y prueba\n",
    "X_train, X_test, y_train, y_test = train_test_split(X, y, test_size=0.3, random_state=42)\n",
    "\n",
    "# Mostrar la distribución de clases antes del rebalanceo\n",
    "print(\"Distribución de clases antes del rebalanceo:\")\n",
    "print({label: count for label, count in zip(*np.unique(y_train, return_counts=True))})\n",
    "\n",
    "# Definir la estrategia de rebalanceo: Sobremuestreo con SMOTE y Submuestreo de clases mayoritarias\n",
    "over = SMOTE(sampling_strategy=0.5)  # Aumentar la clase minoritaria hasta el 50%\n",
    "under = RandomUnderSampler(sampling_strategy=0.8)  # Reducir la clase mayoritaria al 80%\n",
    "pipeline = Pipeline(steps=[('over', over), ('under', under)])\n",
    "\n",
    "# Aplicar el rebalanceo\n",
    "X_resampled, y_resampled = pipeline.fit_resample(X_train, y_train)\n",
    "\n",
    "# Mostrar la distribución de clases después del rebalanceo\n",
    "print(\"\\nDistribución de clases después del rebalanceo:\")\n",
    "print({label: count for label, count in zip(*np.unique(y_resampled, return_counts=True))})\n",
    "\n",
    "# Entrenar un modelo con los datos re-balanceados\n",
    "model = RandomForestClassifier(random_state=42)\n",
    "model.fit(X_resampled, y_resampled)\n",
    "\n",
    "# Evaluar el modelo\n",
    "y_pred = model.predict(X_test)\n",
    "print(\"\\nReporte de clasificación en el conjunto de prueba:\")\n",
    "print(classification_report(y_test, y_pred))"
   ]
  },
  {
   "cell_type": "markdown",
   "metadata": {},
   "source": [
    "# Universidad Externado de Colombia - Facultad de Economía\n",
    "## Autores: Santiago A. Rodríguez Estrada & Laura S. Romero Suárez\n",
    "## Revisado por: Daniel Godoy"
   ]
  }
 ],
 "metadata": {
  "kernelspec": {
   "display_name": "Python 3",
   "language": "python",
   "name": "python3"
  },
  "language_info": {
   "name": "python",
   "version": "3.11.9"
  }
 },
 "nbformat": 4,
 "nbformat_minor": 2
}
